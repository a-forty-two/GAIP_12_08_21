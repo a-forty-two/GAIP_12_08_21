{
  "nbformat": 4,
  "nbformat_minor": 0,
  "metadata": {
    "colab": {
      "name": "03_CV_deep_dive.ipynb",
      "provenance": [],
      "authorship_tag": "ABX9TyOUQdsU/IzTRaHc6yw+QUHk",
      "include_colab_link": true
    },
    "kernelspec": {
      "name": "python3",
      "display_name": "Python 3"
    },
    "language_info": {
      "name": "python"
    }
  },
  "cells": [
    {
      "cell_type": "markdown",
      "metadata": {
        "id": "view-in-github",
        "colab_type": "text"
      },
      "source": [
        "<a href=\"https://colab.research.google.com/github/a-forty-two/GAIP_12_08_21/blob/main/03_CV_deep_dive.ipynb\" target=\"_parent\"><img src=\"https://colab.research.google.com/assets/colab-badge.svg\" alt=\"Open In Colab\"/></a>"
      ]
    },
    {
      "cell_type": "code",
      "metadata": {
        "colab": {
          "base_uri": "https://localhost:8080/"
        },
        "id": "M2KCvj3kKLVu",
        "outputId": "1aa8de9f-f44f-4291-fa4f-71d867ad35ba"
      },
      "source": [
        "!pip install Augmentor"
      ],
      "execution_count": 1,
      "outputs": [
        {
          "output_type": "stream",
          "name": "stdout",
          "text": [
            "Collecting Augmentor\n",
            "  Downloading Augmentor-0.2.8-py2.py3-none-any.whl (38 kB)\n",
            "Requirement already satisfied: Pillow>=5.2.0 in /usr/local/lib/python3.7/dist-packages (from Augmentor) (7.1.2)\n",
            "Requirement already satisfied: numpy>=1.11.0 in /usr/local/lib/python3.7/dist-packages (from Augmentor) (1.19.5)\n",
            "Requirement already satisfied: tqdm>=4.9.0 in /usr/local/lib/python3.7/dist-packages (from Augmentor) (4.62.0)\n",
            "Requirement already satisfied: future>=0.16.0 in /usr/local/lib/python3.7/dist-packages (from Augmentor) (0.16.0)\n",
            "Installing collected packages: Augmentor\n",
            "Successfully installed Augmentor-0.2.8\n"
          ]
        }
      ]
    },
    {
      "cell_type": "code",
      "metadata": {
        "colab": {
          "base_uri": "https://localhost:8080/"
        },
        "id": "F-lKT3qVel5a",
        "outputId": "e9ff6c1b-fdad-49de-923f-23a2b2e99c02"
      },
      "source": [
        "import Augmentor\n",
        "pipes = Augmentor.Pipeline('pics')"
      ],
      "execution_count": 2,
      "outputs": [
        {
          "output_type": "stream",
          "name": "stdout",
          "text": [
            "Initialised with 3 image(s) found.\n",
            "Output directory set to pics/output."
          ]
        }
      ]
    },
    {
      "cell_type": "code",
      "metadata": {
        "colab": {
          "base_uri": "https://localhost:8080/"
        },
        "id": "KIldSN4Oeq-d",
        "outputId": "10b4b88f-7893-4e39-c0bb-1f202bdac258"
      },
      "source": [
        "pipes.flip_left_right(0.5)\n",
        "pipes.black_and_white(0.1)\n",
        "pipes.random_distortion(1, 10, 10, 1)\n",
        "pipes.rotate(0.5, 25, 25)\n",
        "pipes.skew(0.25, 0.5)\n",
        "\n",
        "pipes.sample(100)\n",
        "# Data transformation-> Apache Beam"
      ],
      "execution_count": 3,
      "outputs": [
        {
          "output_type": "stream",
          "name": "stderr",
          "text": [
            "Processing <PIL.Image.Image image mode=1 size=2500x1876 at 0x7F46B901A090>: 100%|██████████| 100/100 [00:30<00:00,  3.29 Samples/s]\n"
          ]
        }
      ]
    },
    {
      "cell_type": "code",
      "metadata": {
        "colab": {
          "base_uri": "https://localhost:8080/"
        },
        "id": "w3LtoGrefI6v",
        "outputId": "d42c5588-76c4-4b1b-820d-aac2a2e40fbd"
      },
      "source": [
        "!ls pics/output\n",
        "\n",
        "!zip -r my.zip pics\n"
      ],
      "execution_count": 11,
      "outputs": [
        {
          "output_type": "stream",
          "name": "stdout",
          "text": [
            "pics_original_001-img.jpeg_02eb5750-61c4-4f84-892b-4764dd067808.jpeg\n",
            "pics_original_001-img.jpeg_17fe4730-c232-4985-b910-7b9df43c0cbf.jpeg\n",
            "pics_original_001-img.jpeg_1c4923b1-fb02-4c73-a906-d835b2caad99.jpeg\n",
            "pics_original_001-img.jpeg_1e5bc843-948e-4eae-8a4e-4359e7b51c6d.jpeg\n",
            "pics_original_001-img.jpeg_24c081c1-b6ed-4b2f-aea0-88c8b365f6d4.jpeg\n",
            "pics_original_001-img.jpeg_2d01730d-49bc-4fab-8c26-05abf6f35be3.jpeg\n",
            "pics_original_001-img.jpeg_2e11d40d-8530-4871-9075-ef09e23be115.jpeg\n",
            "pics_original_001-img.jpeg_310fc1da-83c8-4f74-9325-de1af282712b.jpeg\n",
            "pics_original_001-img.jpeg_4ea1c1fa-276f-4db2-8e1a-c07967139132.jpeg\n",
            "pics_original_001-img.jpeg_7bbe5e61-e866-4e63-9447-c228ac753edd.jpeg\n",
            "pics_original_001-img.jpeg_81bb8528-e333-4549-a65d-ef6f7f4f1075.jpeg\n",
            "pics_original_001-img.jpeg_842d7e07-0617-4fb6-aa26-ebeb663b5464.jpeg\n",
            "pics_original_001-img.jpeg_868e50b9-1e04-4bfb-9bf7-aaf62e4c22d6.jpeg\n",
            "pics_original_001-img.jpeg_8ed7f0f6-d92d-454f-aaa9-114e0fc5b2d7.jpeg\n",
            "pics_original_001-img.jpeg_9b2131af-e73c-44a3-b600-67bdda90aca5.jpeg\n",
            "pics_original_001-img.jpeg_9fae0e4f-bda9-4d1e-b10e-3f8c6509f9ba.jpeg\n",
            "pics_original_001-img.jpeg_b1c9d759-0293-4a17-8c90-ed0b06eb8933.jpeg\n",
            "pics_original_001-img.jpeg_be102332-36e7-4474-b7c4-09eaaa7d495e.jpeg\n",
            "pics_original_001-img.jpeg_d08f9b8d-1310-4ad5-a896-d434e5594881.jpeg\n",
            "pics_original_001-img.jpeg_d3f3dfe8-2952-4135-a6aa-e31cc081bcf7.jpeg\n",
            "pics_original_001-img.jpeg_df72d7b5-2107-4e13-8bfb-93d0466f0d9a.jpeg\n",
            "pics_original_001-img.jpeg_e6a2a6e4-3618-4eba-b997-87cc41e28d46.jpeg\n",
            "pics_original_001-img.jpeg_e94fcb9f-a465-4f96-a493-e7e2ffc14423.jpeg\n",
            "pics_original_001-img.jpeg_ed6edee4-f5f3-4ecf-ac12-0b0472e670ce.jpeg\n",
            "pics_original_001-img.jpeg_ef44eb34-3fb4-484b-80ca-77ee45fb5d89.jpeg\n",
            "pics_original_001-img.jpeg_f798f547-dea8-4048-987b-8d60fa78f944.jpeg\n",
            "pics_original_002-img.jpeg_095d88eb-73cb-4bb3-a4d7-098d22aada7e.jpeg\n",
            "pics_original_002-img.jpeg_127b1336-4903-49dc-a40a-2883e908eeaa.jpeg\n",
            "pics_original_002-img.jpeg_12caab7d-4d1f-402f-88be-88e1bd7c9e84.jpeg\n",
            "pics_original_002-img.jpeg_23079f52-59b4-4168-b51e-f35fad741aab.jpeg\n",
            "pics_original_002-img.jpeg_29ddc289-5fec-411d-9adf-aef75d5e368a.jpeg\n",
            "pics_original_002-img.jpeg_4962f5de-d977-4711-a281-81c360bc7fe3.jpeg\n",
            "pics_original_002-img.jpeg_49fdbb78-00b7-491d-a096-85bc36ba141d.jpeg\n",
            "pics_original_002-img.jpeg_4b1c607a-ad85-4ec7-904d-5185cd150eb0.jpeg\n",
            "pics_original_002-img.jpeg_64488968-9784-4dc3-9eaf-8ac4ae479bba.jpeg\n",
            "pics_original_002-img.jpeg_67403cac-3ff2-4d9e-a406-a7d6f151099b.jpeg\n",
            "pics_original_002-img.jpeg_6e6cf03e-f029-4b87-a5b8-b842991508bb.jpeg\n",
            "pics_original_002-img.jpeg_6fb847e8-6fe7-423f-9bf6-73f4ae08ab9a.jpeg\n",
            "pics_original_002-img.jpeg_7399725e-6a98-4ce3-845a-c5cafb69b00d.jpeg\n",
            "pics_original_002-img.jpeg_7fdfbd43-8843-4491-b447-89ee82cbd633.jpeg\n",
            "pics_original_002-img.jpeg_829a8aa5-bbb0-40c4-9d01-3eb0f3a0af94.jpeg\n",
            "pics_original_002-img.jpeg_9dbed987-72ea-4236-abba-f751ed2b1869.jpeg\n",
            "pics_original_002-img.jpeg_a9744bc3-bad5-4741-bc15-6cafbf115104.jpeg\n",
            "pics_original_002-img.jpeg_b4b19eb2-f1ab-4541-8dc0-197b0005073d.jpeg\n",
            "pics_original_002-img.jpeg_bc53e002-a8cf-40f2-9b41-ea3e2eb495e7.jpeg\n",
            "pics_original_002-img.jpeg_ca06c93e-4227-4fee-b706-273e650b2025.jpeg\n",
            "pics_original_002-img.jpeg_cf8591a4-97d9-43b6-8dcf-6993b9aba13f.jpeg\n",
            "pics_original_002-img.jpeg_d06b3de4-3ee6-4e92-be06-f2b45d2e210d.jpeg\n",
            "pics_original_002-img.jpeg_dce49a0b-183c-4fd2-bda7-af2c595f646f.jpeg\n",
            "pics_original_002-img.jpeg_e0093b06-4638-4266-aed1-b9c2e85a47d0.jpeg\n",
            "pics_original_002-img.jpeg_ea64b1b7-38b9-447d-bf97-74fa160c36a7.jpeg\n",
            "pics_original_002-img.jpeg_ed3b8356-6030-4bf9-8c2f-d33ca20726fd.jpeg\n",
            "pics_original_002-img.jpeg_ef8b9541-ad39-4d69-8348-bc195f2e613f.jpeg\n",
            "pics_original_002-img.jpeg_f72db2dc-27d2-455f-8152-dc142b6a423c.jpeg\n",
            "pics_original_002-img.jpeg_fb04e15d-9585-4372-9abe-5fbc5efd6f88.jpeg\n",
            "pics_original_002-img.jpeg_fd91cb91-5729-4d07-bf35-5821b96b63e6.jpeg\n",
            "pics_original_003-img.jpeg_035e3fba-ad35-4525-8e4a-d2f933527076.jpeg\n",
            "pics_original_003-img.jpeg_1141a178-8581-49d8-a16d-038b48eeb903.jpeg\n",
            "pics_original_003-img.jpeg_21eb3793-1e36-47d7-9bde-e48c63f8bd60.jpeg\n",
            "pics_original_003-img.jpeg_2707493a-fb3d-46af-a1df-c212e597493b.jpeg\n",
            "pics_original_003-img.jpeg_33d727ec-b7f6-4f7f-9f4c-82feccc6d115.jpeg\n",
            "pics_original_003-img.jpeg_3b35623c-80da-410b-903a-e0571fb99192.jpeg\n",
            "pics_original_003-img.jpeg_3ce599b2-9a8d-4c3b-bf00-05cc1fdf0ceb.jpeg\n",
            "pics_original_003-img.jpeg_43150742-38e2-449b-927d-512fbbef1590.jpeg\n",
            "pics_original_003-img.jpeg_43221111-0699-491a-92cf-317290ed8b9b.jpeg\n",
            "pics_original_003-img.jpeg_4840bff7-93ff-47c5-a291-c43de0ec0a0f.jpeg\n",
            "pics_original_003-img.jpeg_4ec9184d-911e-442a-8868-131ea2ca0273.jpeg\n",
            "pics_original_003-img.jpeg_55232371-b382-491c-9757-bb2502264eb4.jpeg\n",
            "pics_original_003-img.jpeg_598c0f5f-69e1-4873-8130-1ef64aae5b0d.jpeg\n",
            "pics_original_003-img.jpeg_5b37b4a9-69ed-456f-870b-aaaf3e118cde.jpeg\n",
            "pics_original_003-img.jpeg_5dcc5a63-2e84-45fd-b9f0-b0ce7a76ab3f.jpeg\n",
            "pics_original_003-img.jpeg_60318564-4f5e-400f-aad5-319f53a0a7a8.jpeg\n",
            "pics_original_003-img.jpeg_64c01fc8-b500-48c3-84dc-a8b00cff3389.jpeg\n",
            "pics_original_003-img.jpeg_6b636682-b889-4346-a66f-7615da7559d3.jpeg\n",
            "pics_original_003-img.jpeg_7cd170e4-c406-4c41-ae91-f9f79f632fe7.jpeg\n",
            "pics_original_003-img.jpeg_7d80adc9-5456-4e96-87e3-e3d3bd317369.jpeg\n",
            "pics_original_003-img.jpeg_82be5444-45b7-4138-bc40-7b7f8fd20b7a.jpeg\n",
            "pics_original_003-img.jpeg_838ea0c4-67f6-4df7-a85f-7ab41c7281f8.jpeg\n",
            "pics_original_003-img.jpeg_8815496f-98c5-4870-b4c7-67de5def0da2.jpeg\n",
            "pics_original_003-img.jpeg_8906d3d2-058d-4a7a-9eec-3d295409d17c.jpeg\n",
            "pics_original_003-img.jpeg_8cebb8ba-033a-4d7a-9ae3-b9493e1c8216.jpeg\n",
            "pics_original_003-img.jpeg_921bbe53-c7bf-4169-860f-b30a6231461e.jpeg\n",
            "pics_original_003-img.jpeg_9ff1b1f1-7741-47b3-b3c4-15da3745aaa8.jpeg\n",
            "pics_original_003-img.jpeg_a0be7f53-ef5e-417c-ad0b-b378f622d023.jpeg\n",
            "pics_original_003-img.jpeg_a145287a-1d48-419f-a994-4849bb4f18b3.jpeg\n",
            "pics_original_003-img.jpeg_a808a105-1399-43bc-aa9e-028d49908bf7.jpeg\n",
            "pics_original_003-img.jpeg_abf17090-f50b-4323-b16b-43bfdbb308cf.jpeg\n",
            "pics_original_003-img.jpeg_aeee27e3-1b27-407f-ba4c-5ee7ad8dd256.jpeg\n",
            "pics_original_003-img.jpeg_bebe4495-ed85-47ec-8c34-837774ad392e.jpeg\n",
            "pics_original_003-img.jpeg_bf6c927c-6b8c-4ade-9285-803a20f3d345.jpeg\n",
            "pics_original_003-img.jpeg_cc8bf1d8-bca0-4a64-9494-8d46b4c5d50e.jpeg\n",
            "pics_original_003-img.jpeg_d13a681a-31c4-4a9c-8e54-4f3172f17dcc.jpeg\n",
            "pics_original_003-img.jpeg_e4ddb7f4-d56c-4df6-bd72-198411c50332.jpeg\n",
            "pics_original_003-img.jpeg_e988e271-a2ff-49ac-b082-3e0d13803a21.jpeg\n",
            "pics_original_003-img.jpeg_eb3bae8c-d145-4b82-a388-d58b6cbfcec7.jpeg\n",
            "pics_original_003-img.jpeg_ed735a3f-eb1a-4e4d-b2c8-8ab5b0e8f51f.jpeg\n",
            "pics_original_003-img.jpeg_f643ff3e-8d26-4bd1-bfb9-362444406583.jpeg\n",
            "pics_original_003-img.jpeg_f9a6f93c-5bbe-4b2b-8645-341699d2e43f.jpeg\n",
            "pics_original_003-img.jpeg_fcc2cc68-d5ce-4611-818a-5ab92e0947f4.jpeg\n",
            "pics_original_003-img.jpeg_fffc182d-596a-4aaa-a93b-e1277441fb46.jpeg\n",
            "  adding: pics/ (stored 0%)\n",
            "  adding: pics/001-img.jpeg (deflated 0%)\n",
            "  adding: pics/002-img.jpeg (deflated 0%)\n",
            "  adding: pics/003-img.jpeg (deflated 0%)\n",
            "  adding: pics/output/ (stored 0%)\n",
            "  adding: pics/output/pics_original_003-img.jpeg_4ec9184d-911e-442a-8868-131ea2ca0273.jpeg (deflated 1%)\n",
            "  adding: pics/output/pics_original_001-img.jpeg_d08f9b8d-1310-4ad5-a896-d434e5594881.jpeg (deflated 0%)\n",
            "  adding: pics/output/pics_original_003-img.jpeg_5b37b4a9-69ed-456f-870b-aaaf3e118cde.jpeg (deflated 1%)\n",
            "  adding: pics/output/pics_original_003-img.jpeg_cc8bf1d8-bca0-4a64-9494-8d46b4c5d50e.jpeg (deflated 1%)\n",
            "  adding: pics/output/pics_original_002-img.jpeg_b4b19eb2-f1ab-4541-8dc0-197b0005073d.jpeg (deflated 0%)\n",
            "  adding: pics/output/pics_original_003-img.jpeg_fcc2cc68-d5ce-4611-818a-5ab92e0947f4.jpeg (deflated 1%)\n",
            "  adding: pics/output/pics_original_003-img.jpeg_6b636682-b889-4346-a66f-7615da7559d3.jpeg (deflated 1%)\n",
            "  adding: pics/output/pics_original_003-img.jpeg_f9a6f93c-5bbe-4b2b-8645-341699d2e43f.jpeg (deflated 1%)\n",
            "  adding: pics/output/pics_original_001-img.jpeg_24c081c1-b6ed-4b2f-aea0-88c8b365f6d4.jpeg (deflated 0%)\n",
            "  adding: pics/output/pics_original_003-img.jpeg_33d727ec-b7f6-4f7f-9f4c-82feccc6d115.jpeg (deflated 1%)\n",
            "  adding: pics/output/pics_original_001-img.jpeg_17fe4730-c232-4985-b910-7b9df43c0cbf.jpeg (deflated 5%)\n",
            "  adding: pics/output/pics_original_002-img.jpeg_7fdfbd43-8843-4491-b447-89ee82cbd633.jpeg (deflated 0%)\n",
            "  adding: pics/output/pics_original_003-img.jpeg_598c0f5f-69e1-4873-8130-1ef64aae5b0d.jpeg (deflated 1%)\n",
            "  adding: pics/output/pics_original_002-img.jpeg_829a8aa5-bbb0-40c4-9d01-3eb0f3a0af94.jpeg (deflated 0%)\n",
            "  adding: pics/output/pics_original_001-img.jpeg_ef44eb34-3fb4-484b-80ca-77ee45fb5d89.jpeg (deflated 0%)\n",
            "  adding: pics/output/pics_original_003-img.jpeg_7cd170e4-c406-4c41-ae91-f9f79f632fe7.jpeg (deflated 4%)\n",
            "  adding: pics/output/pics_original_003-img.jpeg_9ff1b1f1-7741-47b3-b3c4-15da3745aaa8.jpeg (deflated 1%)\n",
            "  adding: pics/output/pics_original_002-img.jpeg_095d88eb-73cb-4bb3-a4d7-098d22aada7e.jpeg (deflated 0%)\n",
            "  adding: pics/output/pics_original_003-img.jpeg_8cebb8ba-033a-4d7a-9ae3-b9493e1c8216.jpeg (deflated 1%)\n",
            "  adding: pics/output/pics_original_003-img.jpeg_8906d3d2-058d-4a7a-9eec-3d295409d17c.jpeg (deflated 1%)\n",
            "  adding: pics/output/pics_original_002-img.jpeg_ef8b9541-ad39-4d69-8348-bc195f2e613f.jpeg (deflated 0%)\n",
            "  adding: pics/output/pics_original_003-img.jpeg_64c01fc8-b500-48c3-84dc-a8b00cff3389.jpeg (deflated 1%)\n",
            "  adding: pics/output/pics_original_001-img.jpeg_ed6edee4-f5f3-4ecf-ac12-0b0472e670ce.jpeg (deflated 0%)\n",
            "  adding: pics/output/pics_original_003-img.jpeg_ed735a3f-eb1a-4e4d-b2c8-8ab5b0e8f51f.jpeg (deflated 3%)\n",
            "  adding: pics/output/pics_original_002-img.jpeg_dce49a0b-183c-4fd2-bda7-af2c595f646f.jpeg (deflated 0%)\n",
            "  adding: pics/output/pics_original_003-img.jpeg_a808a105-1399-43bc-aa9e-028d49908bf7.jpeg (deflated 4%)\n",
            "  adding: pics/output/pics_original_002-img.jpeg_49fdbb78-00b7-491d-a096-85bc36ba141d.jpeg (deflated 0%)\n",
            "  adding: pics/output/pics_original_003-img.jpeg_838ea0c4-67f6-4df7-a85f-7ab41c7281f8.jpeg (deflated 1%)\n",
            "  adding: pics/output/pics_original_002-img.jpeg_cf8591a4-97d9-43b6-8dcf-6993b9aba13f.jpeg (deflated 0%)\n",
            "  adding: pics/output/pics_original_002-img.jpeg_9dbed987-72ea-4236-abba-f751ed2b1869.jpeg (deflated 0%)\n",
            "  adding: pics/output/pics_original_003-img.jpeg_e988e271-a2ff-49ac-b082-3e0d13803a21.jpeg (deflated 4%)\n",
            "  adding: pics/output/pics_original_001-img.jpeg_9b2131af-e73c-44a3-b600-67bdda90aca5.jpeg (deflated 0%)\n",
            "  adding: pics/output/pics_original_002-img.jpeg_fd91cb91-5729-4d07-bf35-5821b96b63e6.jpeg (deflated 0%)\n",
            "  adding: pics/output/pics_original_003-img.jpeg_035e3fba-ad35-4525-8e4a-d2f933527076.jpeg (deflated 5%)\n",
            "  adding: pics/output/pics_original_003-img.jpeg_a145287a-1d48-419f-a994-4849bb4f18b3.jpeg (deflated 1%)\n",
            "  adding: pics/output/pics_original_003-img.jpeg_8815496f-98c5-4870-b4c7-67de5def0da2.jpeg (deflated 1%)\n",
            "  adding: pics/output/pics_original_002-img.jpeg_6e6cf03e-f029-4b87-a5b8-b842991508bb.jpeg (deflated 0%)\n",
            "  adding: pics/output/pics_original_001-img.jpeg_f798f547-dea8-4048-987b-8d60fa78f944.jpeg (deflated 0%)\n",
            "  adding: pics/output/pics_original_003-img.jpeg_5dcc5a63-2e84-45fd-b9f0-b0ce7a76ab3f.jpeg (deflated 1%)\n",
            "  adding: pics/output/pics_original_002-img.jpeg_7399725e-6a98-4ce3-845a-c5cafb69b00d.jpeg (deflated 0%)\n",
            "  adding: pics/output/pics_original_003-img.jpeg_abf17090-f50b-4323-b16b-43bfdbb308cf.jpeg (deflated 1%)\n",
            "  adding: pics/output/pics_original_003-img.jpeg_a0be7f53-ef5e-417c-ad0b-b378f622d023.jpeg (deflated 1%)\n",
            "  adding: pics/output/pics_original_002-img.jpeg_d06b3de4-3ee6-4e92-be06-f2b45d2e210d.jpeg (deflated 0%)\n",
            "  adding: pics/output/pics_original_003-img.jpeg_82be5444-45b7-4138-bc40-7b7f8fd20b7a.jpeg (deflated 1%)\n",
            "  adding: pics/output/pics_original_003-img.jpeg_921bbe53-c7bf-4169-860f-b30a6231461e.jpeg (deflated 1%)\n",
            "  adding: pics/output/pics_original_003-img.jpeg_3ce599b2-9a8d-4c3b-bf00-05cc1fdf0ceb.jpeg (deflated 1%)\n",
            "  adding: pics/output/pics_original_001-img.jpeg_02eb5750-61c4-4f84-892b-4764dd067808.jpeg (deflated 0%)\n",
            "  adding: pics/output/pics_original_001-img.jpeg_e6a2a6e4-3618-4eba-b997-87cc41e28d46.jpeg (deflated 0%)\n",
            "  adding: pics/output/pics_original_001-img.jpeg_1e5bc843-948e-4eae-8a4e-4359e7b51c6d.jpeg (deflated 6%)\n",
            "  adding: pics/output/pics_original_002-img.jpeg_127b1336-4903-49dc-a40a-2883e908eeaa.jpeg (deflated 0%)\n",
            "  adding: pics/output/pics_original_001-img.jpeg_df72d7b5-2107-4e13-8bfb-93d0466f0d9a.jpeg (deflated 0%)\n",
            "  adding: pics/output/pics_original_001-img.jpeg_9fae0e4f-bda9-4d1e-b10e-3f8c6509f9ba.jpeg (deflated 4%)\n",
            "  adding: pics/output/pics_original_002-img.jpeg_fb04e15d-9585-4372-9abe-5fbc5efd6f88.jpeg (deflated 0%)\n",
            "  adding: pics/output/pics_original_003-img.jpeg_4840bff7-93ff-47c5-a291-c43de0ec0a0f.jpeg (deflated 1%)\n",
            "  adding: pics/output/pics_original_001-img.jpeg_842d7e07-0617-4fb6-aa26-ebeb663b5464.jpeg (deflated 5%)\n",
            "  adding: pics/output/pics_original_001-img.jpeg_8ed7f0f6-d92d-454f-aaa9-114e0fc5b2d7.jpeg (deflated 0%)\n",
            "  adding: pics/output/pics_original_003-img.jpeg_1141a178-8581-49d8-a16d-038b48eeb903.jpeg (deflated 1%)\n",
            "  adding: pics/output/pics_original_001-img.jpeg_be102332-36e7-4474-b7c4-09eaaa7d495e.jpeg (deflated 1%)\n",
            "  adding: pics/output/pics_original_003-img.jpeg_fffc182d-596a-4aaa-a93b-e1277441fb46.jpeg (deflated 1%)\n",
            "  adding: pics/output/pics_original_001-img.jpeg_7bbe5e61-e866-4e63-9447-c228ac753edd.jpeg (deflated 0%)\n",
            "  adding: pics/output/pics_original_003-img.jpeg_43150742-38e2-449b-927d-512fbbef1590.jpeg (deflated 1%)\n",
            "  adding: pics/output/pics_original_003-img.jpeg_2707493a-fb3d-46af-a1df-c212e597493b.jpeg (deflated 1%)\n",
            "  adding: pics/output/pics_original_001-img.jpeg_81bb8528-e333-4549-a65d-ef6f7f4f1075.jpeg (deflated 0%)\n",
            "  adding: pics/output/pics_original_002-img.jpeg_ca06c93e-4227-4fee-b706-273e650b2025.jpeg (deflated 0%)\n",
            "  adding: pics/output/pics_original_002-img.jpeg_29ddc289-5fec-411d-9adf-aef75d5e368a.jpeg (deflated 0%)\n",
            "  adding: pics/output/pics_original_001-img.jpeg_2e11d40d-8530-4871-9075-ef09e23be115.jpeg (deflated 0%)\n",
            "  adding: pics/output/pics_original_001-img.jpeg_868e50b9-1e04-4bfb-9bf7-aaf62e4c22d6.jpeg (deflated 0%)\n",
            "  adding: pics/output/pics_original_001-img.jpeg_d3f3dfe8-2952-4135-a6aa-e31cc081bcf7.jpeg (deflated 0%)\n",
            "  adding: pics/output/pics_original_001-img.jpeg_1c4923b1-fb02-4c73-a906-d835b2caad99.jpeg (deflated 8%)\n",
            "  adding: pics/output/pics_original_003-img.jpeg_55232371-b382-491c-9757-bb2502264eb4.jpeg (deflated 1%)\n",
            "  adding: pics/output/pics_original_002-img.jpeg_a9744bc3-bad5-4741-bc15-6cafbf115104.jpeg (deflated 3%)\n",
            "  adding: pics/output/pics_original_003-img.jpeg_aeee27e3-1b27-407f-ba4c-5ee7ad8dd256.jpeg (deflated 1%)\n",
            "  adding: pics/output/pics_original_002-img.jpeg_67403cac-3ff2-4d9e-a406-a7d6f151099b.jpeg (deflated 0%)\n",
            "  adding: pics/output/pics_original_002-img.jpeg_64488968-9784-4dc3-9eaf-8ac4ae479bba.jpeg (deflated 0%)\n",
            "  adding: pics/output/pics_original_003-img.jpeg_21eb3793-1e36-47d7-9bde-e48c63f8bd60.jpeg (deflated 1%)\n",
            "  adding: pics/output/pics_original_003-img.jpeg_7d80adc9-5456-4e96-87e3-e3d3bd317369.jpeg (deflated 1%)\n",
            "  adding: pics/output/pics_original_003-img.jpeg_bebe4495-ed85-47ec-8c34-837774ad392e.jpeg (deflated 1%)\n",
            "  adding: pics/output/pics_original_003-img.jpeg_e4ddb7f4-d56c-4df6-bd72-198411c50332.jpeg (deflated 1%)\n",
            "  adding: pics/output/pics_original_002-img.jpeg_12caab7d-4d1f-402f-88be-88e1bd7c9e84.jpeg (deflated 0%)\n",
            "  adding: pics/output/pics_original_003-img.jpeg_43221111-0699-491a-92cf-317290ed8b9b.jpeg (deflated 1%)\n",
            "  adding: pics/output/pics_original_003-img.jpeg_bf6c927c-6b8c-4ade-9285-803a20f3d345.jpeg (deflated 1%)\n",
            "  adding: pics/output/pics_original_003-img.jpeg_3b35623c-80da-410b-903a-e0571fb99192.jpeg (deflated 4%)\n",
            "  adding: pics/output/pics_original_001-img.jpeg_4ea1c1fa-276f-4db2-8e1a-c07967139132.jpeg (deflated 0%)\n",
            "  adding: pics/output/pics_original_002-img.jpeg_6fb847e8-6fe7-423f-9bf6-73f4ae08ab9a.jpeg (deflated 0%)\n",
            "  adding: pics/output/pics_original_002-img.jpeg_4b1c607a-ad85-4ec7-904d-5185cd150eb0.jpeg (deflated 0%)\n",
            "  adding: pics/output/pics_original_002-img.jpeg_f72db2dc-27d2-455f-8152-dc142b6a423c.jpeg (deflated 5%)\n",
            "  adding: pics/output/pics_original_001-img.jpeg_310fc1da-83c8-4f74-9325-de1af282712b.jpeg (deflated 0%)\n",
            "  adding: pics/output/pics_original_002-img.jpeg_e0093b06-4638-4266-aed1-b9c2e85a47d0.jpeg (deflated 2%)\n",
            "  adding: pics/output/pics_original_002-img.jpeg_bc53e002-a8cf-40f2-9b41-ea3e2eb495e7.jpeg (deflated 0%)\n",
            "  adding: pics/output/pics_original_001-img.jpeg_2d01730d-49bc-4fab-8c26-05abf6f35be3.jpeg (deflated 0%)\n",
            "  adding: pics/output/pics_original_003-img.jpeg_60318564-4f5e-400f-aad5-319f53a0a7a8.jpeg (deflated 1%)\n",
            "  adding: pics/output/pics_original_001-img.jpeg_b1c9d759-0293-4a17-8c90-ed0b06eb8933.jpeg (deflated 0%)\n",
            "  adding: pics/output/pics_original_002-img.jpeg_4962f5de-d977-4711-a281-81c360bc7fe3.jpeg (deflated 0%)\n",
            "  adding: pics/output/pics_original_001-img.jpeg_e94fcb9f-a465-4f96-a493-e7e2ffc14423.jpeg (deflated 0%)\n",
            "  adding: pics/output/pics_original_003-img.jpeg_f643ff3e-8d26-4bd1-bfb9-362444406583.jpeg (deflated 1%)\n",
            "  adding: pics/output/pics_original_002-img.jpeg_23079f52-59b4-4168-b51e-f35fad741aab.jpeg (deflated 3%)\n",
            "  adding: pics/output/pics_original_002-img.jpeg_ea64b1b7-38b9-447d-bf97-74fa160c36a7.jpeg (deflated 0%)\n",
            "  adding: pics/output/pics_original_003-img.jpeg_eb3bae8c-d145-4b82-a388-d58b6cbfcec7.jpeg (deflated 5%)\n",
            "  adding: pics/output/pics_original_003-img.jpeg_d13a681a-31c4-4a9c-8e54-4f3172f17dcc.jpeg (deflated 1%)\n",
            "  adding: pics/output/pics_original_002-img.jpeg_ed3b8356-6030-4bf9-8c2f-d33ca20726fd.jpeg (deflated 0%)\n"
          ]
        }
      ]
    },
    {
      "cell_type": "code",
      "metadata": {
        "id": "yjnMRLOSe3Od"
      },
      "source": [
        ""
      ],
      "execution_count": null,
      "outputs": []
    }
  ]
}