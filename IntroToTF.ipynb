{
  "nbformat": 4,
  "nbformat_minor": 0,
  "metadata": {
    "colab": {
      "name": "IntroToTF.ipynb",
      "provenance": [],
      "authorship_tag": "ABX9TyOSt0UwpHpg96K0umJ/v1yH",
      "include_colab_link": true
    },
    "kernelspec": {
      "name": "python3",
      "display_name": "Python 3"
    },
    "language_info": {
      "name": "python"
    }
  },
  "cells": [
    {
      "cell_type": "markdown",
      "metadata": {
        "id": "view-in-github",
        "colab_type": "text"
      },
      "source": [
        "<a href=\"https://colab.research.google.com/github/a-forty-two/GAIP_12_08_21/blob/main/IntroToTF.ipynb\" target=\"_parent\"><img src=\"https://colab.research.google.com/assets/colab-badge.svg\" alt=\"Open In Colab\"/></a>"
      ]
    },
    {
      "cell_type": "code",
      "metadata": {
        "colab": {
          "base_uri": "https://localhost:8080/"
        },
        "id": "OLteXBiYI13y",
        "outputId": "88239828-3b84-42fd-cb85-603a758e0f72"
      },
      "source": [
        "import tensorflow as tf\n",
        "print(tf.__version__)"
      ],
      "execution_count": 1,
      "outputs": [
        {
          "output_type": "stream",
          "text": [
            "2.5.0\n"
          ],
          "name": "stdout"
        }
      ]
    },
    {
      "cell_type": "code",
      "metadata": {
        "id": "VMWt-uOoJeYG"
      },
      "source": [
        "# X1,x2,w,b-> ALL and ONLY numbers \n",
        "# Images-> numbers\n",
        "# sentence-> numbers\n",
        "# SIGNAL-> number\n",
        "from tensorflow import keras\n",
        "imdb = keras.datasets.imdb\n",
        "fashion = keras.datasets.fashion_mnist"
      ],
      "execution_count": 20,
      "outputs": []
    },
    {
      "cell_type": "code",
      "metadata": {
        "colab": {
          "base_uri": "https://localhost:8080/"
        },
        "id": "c2KuVS5QKcZ0",
        "outputId": "ccaa191b-3af9-4ff0-e688-3457b53a4597"
      },
      "source": [
        "dir(imdb)"
      ],
      "execution_count": 3,
      "outputs": [
        {
          "output_type": "execute_result",
          "data": {
            "text/plain": [
              "['__builtins__',\n",
              " '__cached__',\n",
              " '__doc__',\n",
              " '__file__',\n",
              " '__loader__',\n",
              " '__name__',\n",
              " '__package__',\n",
              " '__path__',\n",
              " '__spec__',\n",
              " '_sys',\n",
              " 'get_word_index',\n",
              " 'load_data']"
            ]
          },
          "metadata": {
            "tags": []
          },
          "execution_count": 3
        }
      ]
    },
    {
      "cell_type": "code",
      "metadata": {
        "colab": {
          "base_uri": "https://localhost:8080/"
        },
        "id": "pNThVVJiKeTg",
        "outputId": "5d8b7fc9-53da-4d70-8a4c-1e828d333281"
      },
      "source": [
        "imdb.__dict__"
      ],
      "execution_count": 4,
      "outputs": [
        {
          "output_type": "execute_result",
          "data": {
            "text/plain": [
              "{'__builtins__': {'ArithmeticError': ArithmeticError,\n",
              "  'AssertionError': AssertionError,\n",
              "  'AttributeError': AttributeError,\n",
              "  'BaseException': BaseException,\n",
              "  'BlockingIOError': BlockingIOError,\n",
              "  'BrokenPipeError': BrokenPipeError,\n",
              "  'BufferError': BufferError,\n",
              "  'BytesWarning': BytesWarning,\n",
              "  'ChildProcessError': ChildProcessError,\n",
              "  'ConnectionAbortedError': ConnectionAbortedError,\n",
              "  'ConnectionError': ConnectionError,\n",
              "  'ConnectionRefusedError': ConnectionRefusedError,\n",
              "  'ConnectionResetError': ConnectionResetError,\n",
              "  'DeprecationWarning': DeprecationWarning,\n",
              "  'EOFError': EOFError,\n",
              "  'Ellipsis': Ellipsis,\n",
              "  'EnvironmentError': OSError,\n",
              "  'Exception': Exception,\n",
              "  'False': False,\n",
              "  'FileExistsError': FileExistsError,\n",
              "  'FileNotFoundError': FileNotFoundError,\n",
              "  'FloatingPointError': FloatingPointError,\n",
              "  'FutureWarning': FutureWarning,\n",
              "  'GeneratorExit': GeneratorExit,\n",
              "  'IOError': OSError,\n",
              "  'ImportError': ImportError,\n",
              "  'ImportWarning': ImportWarning,\n",
              "  'IndentationError': IndentationError,\n",
              "  'IndexError': IndexError,\n",
              "  'InterruptedError': InterruptedError,\n",
              "  'IsADirectoryError': IsADirectoryError,\n",
              "  'KeyError': KeyError,\n",
              "  'KeyboardInterrupt': KeyboardInterrupt,\n",
              "  'LookupError': LookupError,\n",
              "  'MemoryError': MemoryError,\n",
              "  'ModuleNotFoundError': ModuleNotFoundError,\n",
              "  'NameError': NameError,\n",
              "  'None': None,\n",
              "  'NotADirectoryError': NotADirectoryError,\n",
              "  'NotImplemented': NotImplemented,\n",
              "  'NotImplementedError': NotImplementedError,\n",
              "  'OSError': OSError,\n",
              "  'OverflowError': OverflowError,\n",
              "  'PendingDeprecationWarning': PendingDeprecationWarning,\n",
              "  'PermissionError': PermissionError,\n",
              "  'ProcessLookupError': ProcessLookupError,\n",
              "  'RecursionError': RecursionError,\n",
              "  'ReferenceError': ReferenceError,\n",
              "  'ResourceWarning': ResourceWarning,\n",
              "  'RuntimeError': RuntimeError,\n",
              "  'RuntimeWarning': RuntimeWarning,\n",
              "  'StopAsyncIteration': StopAsyncIteration,\n",
              "  'StopIteration': StopIteration,\n",
              "  'SyntaxError': SyntaxError,\n",
              "  'SyntaxWarning': SyntaxWarning,\n",
              "  'SystemError': SystemError,\n",
              "  'SystemExit': SystemExit,\n",
              "  'TabError': TabError,\n",
              "  'TimeoutError': TimeoutError,\n",
              "  'True': True,\n",
              "  'TypeError': TypeError,\n",
              "  'UnboundLocalError': UnboundLocalError,\n",
              "  'UnicodeDecodeError': UnicodeDecodeError,\n",
              "  'UnicodeEncodeError': UnicodeEncodeError,\n",
              "  'UnicodeError': UnicodeError,\n",
              "  'UnicodeTranslateError': UnicodeTranslateError,\n",
              "  'UnicodeWarning': UnicodeWarning,\n",
              "  'UserWarning': UserWarning,\n",
              "  'ValueError': ValueError,\n",
              "  'Warning': Warning,\n",
              "  'ZeroDivisionError': ZeroDivisionError,\n",
              "  '__IPYTHON__': True,\n",
              "  '__build_class__': <function __build_class__>,\n",
              "  '__debug__': True,\n",
              "  '__doc__': \"Built-in functions, exceptions, and other objects.\\n\\nNoteworthy: None is the `nil' object; Ellipsis represents `...' in slices.\",\n",
              "  '__import__': <function __import__>,\n",
              "  '__loader__': _frozen_importlib.BuiltinImporter,\n",
              "  '__name__': 'builtins',\n",
              "  '__package__': '',\n",
              "  '__pybind11_internals_v3_gcc_libstdcpp_cxxabi1002__': <capsule object NULL at 0x7ffa67fbe420>,\n",
              "  '__pybind11_internals_v4_gcc_libstdcpp_cxxabi1011__': <capsule object NULL at 0x7ffaa3b7ed80>,\n",
              "  '__spec__': ModuleSpec(name='builtins', loader=<class '_frozen_importlib.BuiltinImporter'>),\n",
              "  'abs': <function abs>,\n",
              "  'all': <function all>,\n",
              "  'any': <function any>,\n",
              "  'ascii': <function ascii>,\n",
              "  'bin': <function bin>,\n",
              "  'bool': bool,\n",
              "  'breakpoint': <function breakpoint>,\n",
              "  'bytearray': bytearray,\n",
              "  'bytes': bytes,\n",
              "  'callable': <function callable>,\n",
              "  'chr': <function chr>,\n",
              "  'classmethod': classmethod,\n",
              "  'compile': <function compile>,\n",
              "  'complex': complex,\n",
              "  'copyright': Copyright (c) 2001-2021 Python Software Foundation.\n",
              "  All Rights Reserved.\n",
              "  \n",
              "  Copyright (c) 2000 BeOpen.com.\n",
              "  All Rights Reserved.\n",
              "  \n",
              "  Copyright (c) 1995-2001 Corporation for National Research Initiatives.\n",
              "  All Rights Reserved.\n",
              "  \n",
              "  Copyright (c) 1991-1995 Stichting Mathematisch Centrum, Amsterdam.\n",
              "  All Rights Reserved.,\n",
              "  'credits':     Thanks to CWI, CNRI, BeOpen.com, Zope Corporation and a cast of thousands\n",
              "      for supporting Python development.  See www.python.org for more information.,\n",
              "  'delattr': <function delattr>,\n",
              "  'dict': dict,\n",
              "  'dir': <function dir>,\n",
              "  'display': <function IPython.core.display.display>,\n",
              "  'divmod': <function divmod>,\n",
              "  'dreload': <function IPython.lib.deepreload._dreload>,\n",
              "  'enumerate': enumerate,\n",
              "  'eval': <function eval>,\n",
              "  'exec': <function exec>,\n",
              "  'execfile': <function _pydev_imps._pydev_execfile.execfile>,\n",
              "  'filter': filter,\n",
              "  'float': float,\n",
              "  'format': <function format>,\n",
              "  'frozenset': frozenset,\n",
              "  'get_ipython': <bound method InteractiveShell.get_ipython of <google.colab._shell.Shell object at 0x7ffaad1fd5d0>>,\n",
              "  'getattr': <function getattr>,\n",
              "  'globals': <function globals>,\n",
              "  'hasattr': <function hasattr>,\n",
              "  'hash': <function hash>,\n",
              "  'help': Type help() for interactive help, or help(object) for help about object.,\n",
              "  'hex': <function hex>,\n",
              "  'id': <function id>,\n",
              "  'input': <bound method Kernel.raw_input of <google.colab._kernel.Kernel object at 0x7ffaad1fd510>>,\n",
              "  'int': int,\n",
              "  'isinstance': <function isinstance>,\n",
              "  'issubclass': <function issubclass>,\n",
              "  'iter': <function iter>,\n",
              "  'len': <function len>,\n",
              "  'license': Type license() to see the full license text,\n",
              "  'list': list,\n",
              "  'locals': <function locals>,\n",
              "  'map': map,\n",
              "  'max': <function max>,\n",
              "  'memoryview': memoryview,\n",
              "  'min': <function min>,\n",
              "  'next': <function next>,\n",
              "  'object': object,\n",
              "  'oct': <function oct>,\n",
              "  'open': <function io.open>,\n",
              "  'ord': <function ord>,\n",
              "  'pow': <function pow>,\n",
              "  'print': <function print>,\n",
              "  'property': property,\n",
              "  'range': range,\n",
              "  'repr': <function repr>,\n",
              "  'reversed': reversed,\n",
              "  'round': <function round>,\n",
              "  'runfile': <function _pydev_bundle.pydev_umd.runfile>,\n",
              "  'set': set,\n",
              "  'setattr': <function setattr>,\n",
              "  'slice': slice,\n",
              "  'sorted': <function sorted>,\n",
              "  'staticmethod': staticmethod,\n",
              "  'str': str,\n",
              "  'sum': <function sum>,\n",
              "  'super': super,\n",
              "  'tuple': tuple,\n",
              "  'type': type,\n",
              "  'vars': <function vars>,\n",
              "  'zip': zip},\n",
              " '__cached__': '/usr/local/lib/python3.7/dist-packages/tensorflow/keras/datasets/imdb/__pycache__/__init__.cpython-37.pyc',\n",
              " '__doc__': 'IMDB sentiment classification dataset.\\n',\n",
              " '__file__': '/usr/local/lib/python3.7/dist-packages/tensorflow/keras/datasets/imdb/__init__.py',\n",
              " '__loader__': <_frozen_importlib_external.SourceFileLoader at 0x7ffa5dba5d90>,\n",
              " '__name__': 'tensorflow.keras.datasets.imdb',\n",
              " '__package__': 'tensorflow.keras.datasets.imdb',\n",
              " '__path__': ['/usr/local/lib/python3.7/dist-packages/tensorflow/keras/datasets/imdb'],\n",
              " '__spec__': ModuleSpec(name='tensorflow.keras.datasets.imdb', loader=<_frozen_importlib_external.SourceFileLoader object at 0x7ffa5dba5d90>, origin='/usr/local/lib/python3.7/dist-packages/tensorflow/keras/datasets/imdb/__init__.py', submodule_search_locations=['/usr/local/lib/python3.7/dist-packages/tensorflow/keras/datasets/imdb']),\n",
              " '_sys': <module 'sys' (built-in)>,\n",
              " 'get_word_index': <function tensorflow.python.keras.datasets.imdb.get_word_index>,\n",
              " 'load_data': <function tensorflow.python.keras.datasets.imdb.load_data>}"
            ]
          },
          "metadata": {
            "tags": []
          },
          "execution_count": 4
        }
      ]
    },
    {
      "cell_type": "code",
      "metadata": {
        "colab": {
          "base_uri": "https://localhost:8080/"
        },
        "id": "5FMFjGWUKlkc",
        "outputId": "6ee66b70-d8ee-45d0-9403-374538e8ba69"
      },
      "source": [
        "(xtrain,ytrain), (xtest,ytest) = imdb.load_data(num_words=10000)"
      ],
      "execution_count": 5,
      "outputs": [
        {
          "output_type": "stream",
          "text": [
            "Downloading data from https://storage.googleapis.com/tensorflow/tf-keras-datasets/imdb.npz\n",
            "17465344/17464789 [==============================] - 0s 0us/step\n"
          ],
          "name": "stdout"
        },
        {
          "output_type": "stream",
          "text": [
            "<string>:6: VisibleDeprecationWarning: Creating an ndarray from ragged nested sequences (which is a list-or-tuple of lists-or-tuples-or ndarrays with different lengths or shapes) is deprecated. If you meant to do this, you must specify 'dtype=object' when creating the ndarray\n",
            "/usr/local/lib/python3.7/dist-packages/tensorflow/python/keras/datasets/imdb.py:155: VisibleDeprecationWarning: Creating an ndarray from ragged nested sequences (which is a list-or-tuple of lists-or-tuples-or ndarrays with different lengths or shapes) is deprecated. If you meant to do this, you must specify 'dtype=object' when creating the ndarray\n",
            "  x_train, y_train = np.array(xs[:idx]), np.array(labels[:idx])\n",
            "/usr/local/lib/python3.7/dist-packages/tensorflow/python/keras/datasets/imdb.py:156: VisibleDeprecationWarning: Creating an ndarray from ragged nested sequences (which is a list-or-tuple of lists-or-tuples-or ndarrays with different lengths or shapes) is deprecated. If you meant to do this, you must specify 'dtype=object' when creating the ndarray\n",
            "  x_test, y_test = np.array(xs[idx:]), np.array(labels[idx:])\n"
          ],
          "name": "stderr"
        }
      ]
    },
    {
      "cell_type": "code",
      "metadata": {
        "colab": {
          "base_uri": "https://localhost:8080/"
        },
        "id": "PeQmpXlVK7wX",
        "outputId": "cf543147-d7d8-485f-f2c8-e0625c89b444"
      },
      "source": [
        "xtrain.shape"
      ],
      "execution_count": 6,
      "outputs": [
        {
          "output_type": "execute_result",
          "data": {
            "text/plain": [
              "(25000,)"
            ]
          },
          "metadata": {
            "tags": []
          },
          "execution_count": 6
        }
      ]
    },
    {
      "cell_type": "code",
      "metadata": {
        "colab": {
          "base_uri": "https://localhost:8080/"
        },
        "id": "BVaV2JIFLAQd",
        "outputId": "f118ad7e-6cae-451a-9593-5ecaa961642d"
      },
      "source": [
        "ytest.shape"
      ],
      "execution_count": 8,
      "outputs": [
        {
          "output_type": "execute_result",
          "data": {
            "text/plain": [
              "(25000,)"
            ]
          },
          "metadata": {
            "tags": []
          },
          "execution_count": 8
        }
      ]
    },
    {
      "cell_type": "code",
      "metadata": {
        "colab": {
          "base_uri": "https://localhost:8080/"
        },
        "id": "R1z7ryJNLBe3",
        "outputId": "f4a01baa-e85f-4e21-e4e7-ba2087557ffa"
      },
      "source": [
        "xtrain[:5]\n",
        "# SENTENCES 'ENCODED' into number sequences!\n",
        "# NATURAL LANGUAGE PROCESSING-> languages into numbers"
      ],
      "execution_count": 9,
      "outputs": [
        {
          "output_type": "execute_result",
          "data": {
            "text/plain": [
              "array([list([1, 14, 22, 16, 43, 530, 973, 1622, 1385, 65, 458, 4468, 66, 3941, 4, 173, 36, 256, 5, 25, 100, 43, 838, 112, 50, 670, 2, 9, 35, 480, 284, 5, 150, 4, 172, 112, 167, 2, 336, 385, 39, 4, 172, 4536, 1111, 17, 546, 38, 13, 447, 4, 192, 50, 16, 6, 147, 2025, 19, 14, 22, 4, 1920, 4613, 469, 4, 22, 71, 87, 12, 16, 43, 530, 38, 76, 15, 13, 1247, 4, 22, 17, 515, 17, 12, 16, 626, 18, 2, 5, 62, 386, 12, 8, 316, 8, 106, 5, 4, 2223, 5244, 16, 480, 66, 3785, 33, 4, 130, 12, 16, 38, 619, 5, 25, 124, 51, 36, 135, 48, 25, 1415, 33, 6, 22, 12, 215, 28, 77, 52, 5, 14, 407, 16, 82, 2, 8, 4, 107, 117, 5952, 15, 256, 4, 2, 7, 3766, 5, 723, 36, 71, 43, 530, 476, 26, 400, 317, 46, 7, 4, 2, 1029, 13, 104, 88, 4, 381, 15, 297, 98, 32, 2071, 56, 26, 141, 6, 194, 7486, 18, 4, 226, 22, 21, 134, 476, 26, 480, 5, 144, 30, 5535, 18, 51, 36, 28, 224, 92, 25, 104, 4, 226, 65, 16, 38, 1334, 88, 12, 16, 283, 5, 16, 4472, 113, 103, 32, 15, 16, 5345, 19, 178, 32]),\n",
              "       list([1, 194, 1153, 194, 8255, 78, 228, 5, 6, 1463, 4369, 5012, 134, 26, 4, 715, 8, 118, 1634, 14, 394, 20, 13, 119, 954, 189, 102, 5, 207, 110, 3103, 21, 14, 69, 188, 8, 30, 23, 7, 4, 249, 126, 93, 4, 114, 9, 2300, 1523, 5, 647, 4, 116, 9, 35, 8163, 4, 229, 9, 340, 1322, 4, 118, 9, 4, 130, 4901, 19, 4, 1002, 5, 89, 29, 952, 46, 37, 4, 455, 9, 45, 43, 38, 1543, 1905, 398, 4, 1649, 26, 6853, 5, 163, 11, 3215, 2, 4, 1153, 9, 194, 775, 7, 8255, 2, 349, 2637, 148, 605, 2, 8003, 15, 123, 125, 68, 2, 6853, 15, 349, 165, 4362, 98, 5, 4, 228, 9, 43, 2, 1157, 15, 299, 120, 5, 120, 174, 11, 220, 175, 136, 50, 9, 4373, 228, 8255, 5, 2, 656, 245, 2350, 5, 4, 9837, 131, 152, 491, 18, 2, 32, 7464, 1212, 14, 9, 6, 371, 78, 22, 625, 64, 1382, 9, 8, 168, 145, 23, 4, 1690, 15, 16, 4, 1355, 5, 28, 6, 52, 154, 462, 33, 89, 78, 285, 16, 145, 95]),\n",
              "       list([1, 14, 47, 8, 30, 31, 7, 4, 249, 108, 7, 4, 5974, 54, 61, 369, 13, 71, 149, 14, 22, 112, 4, 2401, 311, 12, 16, 3711, 33, 75, 43, 1829, 296, 4, 86, 320, 35, 534, 19, 263, 4821, 1301, 4, 1873, 33, 89, 78, 12, 66, 16, 4, 360, 7, 4, 58, 316, 334, 11, 4, 1716, 43, 645, 662, 8, 257, 85, 1200, 42, 1228, 2578, 83, 68, 3912, 15, 36, 165, 1539, 278, 36, 69, 2, 780, 8, 106, 14, 6905, 1338, 18, 6, 22, 12, 215, 28, 610, 40, 6, 87, 326, 23, 2300, 21, 23, 22, 12, 272, 40, 57, 31, 11, 4, 22, 47, 6, 2307, 51, 9, 170, 23, 595, 116, 595, 1352, 13, 191, 79, 638, 89, 2, 14, 9, 8, 106, 607, 624, 35, 534, 6, 227, 7, 129, 113]),\n",
              "       list([1, 4, 2, 2, 33, 2804, 4, 2040, 432, 111, 153, 103, 4, 1494, 13, 70, 131, 67, 11, 61, 2, 744, 35, 3715, 761, 61, 5766, 452, 9214, 4, 985, 7, 2, 59, 166, 4, 105, 216, 1239, 41, 1797, 9, 15, 7, 35, 744, 2413, 31, 8, 4, 687, 23, 4, 2, 7339, 6, 3693, 42, 38, 39, 121, 59, 456, 10, 10, 7, 265, 12, 575, 111, 153, 159, 59, 16, 1447, 21, 25, 586, 482, 39, 4, 96, 59, 716, 12, 4, 172, 65, 9, 579, 11, 6004, 4, 1615, 5, 2, 7, 5168, 17, 13, 7064, 12, 19, 6, 464, 31, 314, 11, 2, 6, 719, 605, 11, 8, 202, 27, 310, 4, 3772, 3501, 8, 2722, 58, 10, 10, 537, 2116, 180, 40, 14, 413, 173, 7, 263, 112, 37, 152, 377, 4, 537, 263, 846, 579, 178, 54, 75, 71, 476, 36, 413, 263, 2504, 182, 5, 17, 75, 2306, 922, 36, 279, 131, 2895, 17, 2867, 42, 17, 35, 921, 2, 192, 5, 1219, 3890, 19, 2, 217, 4122, 1710, 537, 2, 1236, 5, 736, 10, 10, 61, 403, 9, 2, 40, 61, 4494, 5, 27, 4494, 159, 90, 263, 2311, 4319, 309, 8, 178, 5, 82, 4319, 4, 65, 15, 9225, 145, 143, 5122, 12, 7039, 537, 746, 537, 537, 15, 7979, 4, 2, 594, 7, 5168, 94, 9096, 3987, 2, 11, 2, 4, 538, 7, 1795, 246, 2, 9, 2, 11, 635, 14, 9, 51, 408, 12, 94, 318, 1382, 12, 47, 6, 2683, 936, 5, 6307, 2, 19, 49, 7, 4, 1885, 2, 1118, 25, 80, 126, 842, 10, 10, 2, 2, 4726, 27, 4494, 11, 1550, 3633, 159, 27, 341, 29, 2733, 19, 4185, 173, 7, 90, 2, 8, 30, 11, 4, 1784, 86, 1117, 8, 3261, 46, 11, 2, 21, 29, 9, 2841, 23, 4, 1010, 2, 793, 6, 2, 1386, 1830, 10, 10, 246, 50, 9, 6, 2750, 1944, 746, 90, 29, 2, 8, 124, 4, 882, 4, 882, 496, 27, 2, 2213, 537, 121, 127, 1219, 130, 5, 29, 494, 8, 124, 4, 882, 496, 4, 341, 7, 27, 846, 10, 10, 29, 9, 1906, 8, 97, 6, 236, 2, 1311, 8, 4, 2, 7, 31, 7, 2, 91, 2, 3987, 70, 4, 882, 30, 579, 42, 9, 12, 32, 11, 537, 10, 10, 11, 14, 65, 44, 537, 75, 2, 1775, 3353, 2, 1846, 4, 2, 7, 154, 5, 4, 518, 53, 2, 2, 7, 3211, 882, 11, 399, 38, 75, 257, 3807, 19, 2, 17, 29, 456, 4, 65, 7, 27, 205, 113, 10, 10, 2, 4, 2, 2, 9, 242, 4, 91, 1202, 2, 5, 2070, 307, 22, 7, 5168, 126, 93, 40, 2, 13, 188, 1076, 3222, 19, 4, 2, 7, 2348, 537, 23, 53, 537, 21, 82, 40, 2, 13, 2, 14, 280, 13, 219, 4, 2, 431, 758, 859, 4, 953, 1052, 2, 7, 5991, 5, 94, 40, 25, 238, 60, 2, 4, 2, 804, 2, 7, 4, 9941, 132, 8, 67, 6, 22, 15, 9, 283, 8, 5168, 14, 31, 9, 242, 955, 48, 25, 279, 2, 23, 12, 1685, 195, 25, 238, 60, 796, 2, 4, 671, 7, 2804, 5, 4, 559, 154, 888, 7, 726, 50, 26, 49, 7008, 15, 566, 30, 579, 21, 64, 2574]),\n",
              "       list([1, 249, 1323, 7, 61, 113, 10, 10, 13, 1637, 14, 20, 56, 33, 2401, 18, 457, 88, 13, 2626, 1400, 45, 3171, 13, 70, 79, 49, 706, 919, 13, 16, 355, 340, 355, 1696, 96, 143, 4, 22, 32, 289, 7, 61, 369, 71, 2359, 5, 13, 16, 131, 2073, 249, 114, 249, 229, 249, 20, 13, 28, 126, 110, 13, 473, 8, 569, 61, 419, 56, 429, 6, 1513, 18, 35, 534, 95, 474, 570, 5, 25, 124, 138, 88, 12, 421, 1543, 52, 725, 6397, 61, 419, 11, 13, 1571, 15, 1543, 20, 11, 4, 2, 5, 296, 12, 3524, 5, 15, 421, 128, 74, 233, 334, 207, 126, 224, 12, 562, 298, 2167, 1272, 7, 2601, 5, 516, 988, 43, 8, 79, 120, 15, 595, 13, 784, 25, 3171, 18, 165, 170, 143, 19, 14, 5, 7224, 6, 226, 251, 7, 61, 113])],\n",
              "      dtype=object)"
            ]
          },
          "metadata": {
            "tags": []
          },
          "execution_count": 9
        }
      ]
    },
    {
      "cell_type": "code",
      "metadata": {
        "colab": {
          "base_uri": "https://localhost:8080/"
        },
        "id": "wcZn33-3LGGZ",
        "outputId": "2dd97e5d-f421-4bda-c656-899809a4ebdf"
      },
      "source": [
        "#ENcoding\n",
        "wordidx = imdb.get_word_index()"
      ],
      "execution_count": 10,
      "outputs": [
        {
          "output_type": "stream",
          "text": [
            "Downloading data from https://storage.googleapis.com/tensorflow/tf-keras-datasets/imdb_word_index.json\n",
            "1646592/1641221 [==============================] - 0s 0us/step\n"
          ],
          "name": "stdout"
        }
      ]
    },
    {
      "cell_type": "code",
      "metadata": {
        "colab": {
          "base_uri": "https://localhost:8080/"
        },
        "id": "Zw0OUBwHLspu",
        "outputId": "886b2aae-3a19-4126-f276-3974ecd7ef43"
      },
      "source": [
        "wordidx['director']"
      ],
      "execution_count": 18,
      "outputs": [
        {
          "output_type": "execute_result",
          "data": {
            "text/plain": [
              "164"
            ]
          },
          "metadata": {
            "tags": []
          },
          "execution_count": 18
        }
      ]
    },
    {
      "cell_type": "code",
      "metadata": {
        "id": "9l7f-JPDLunG"
      },
      "source": [
        "# FREQUENCY-> occurance repeat-> higher-> on top of encoding dictionary, lower-> on bottom of dictionary"
      ],
      "execution_count": 19,
      "outputs": []
    },
    {
      "cell_type": "code",
      "metadata": {
        "colab": {
          "base_uri": "https://localhost:8080/"
        },
        "id": "7uXv0MiKMT7t",
        "outputId": "9dcde02d-907f-41ad-9349-6d03538c80e9"
      },
      "source": [
        "dir(fashion)"
      ],
      "execution_count": 21,
      "outputs": [
        {
          "output_type": "execute_result",
          "data": {
            "text/plain": [
              "['__builtins__',\n",
              " '__cached__',\n",
              " '__doc__',\n",
              " '__file__',\n",
              " '__loader__',\n",
              " '__name__',\n",
              " '__package__',\n",
              " '__path__',\n",
              " '__spec__',\n",
              " '_sys',\n",
              " 'load_data']"
            ]
          },
          "metadata": {
            "tags": []
          },
          "execution_count": 21
        }
      ]
    },
    {
      "cell_type": "code",
      "metadata": {
        "id": "B3IgonwbMeph"
      },
      "source": [
        "imgdata = fashion.load_data()\n",
        "(xtrain,ytrain), (xtest, ytest) = imgdata"
      ],
      "execution_count": 47,
      "outputs": []
    },
    {
      "cell_type": "code",
      "metadata": {
        "colab": {
          "base_uri": "https://localhost:8080/"
        },
        "id": "NAmpIpolMooY",
        "outputId": "4976d773-243a-46d3-96b8-f3b5e4bd1552"
      },
      "source": [
        "xtrain.shape"
      ],
      "execution_count": 48,
      "outputs": [
        {
          "output_type": "execute_result",
          "data": {
            "text/plain": [
              "(60000, 28, 28)"
            ]
          },
          "metadata": {
            "tags": []
          },
          "execution_count": 48
        }
      ]
    },
    {
      "cell_type": "code",
      "metadata": {
        "colab": {
          "base_uri": "https://localhost:8080/"
        },
        "id": "uV5flYS7Mqwg",
        "outputId": "db33a54b-b95b-4dea-a550-f01a54f3a624"
      },
      "source": [
        "xtest.shape"
      ],
      "execution_count": 49,
      "outputs": [
        {
          "output_type": "execute_result",
          "data": {
            "text/plain": [
              "(10000, 28, 28)"
            ]
          },
          "metadata": {
            "tags": []
          },
          "execution_count": 49
        }
      ]
    },
    {
      "cell_type": "code",
      "metadata": {
        "colab": {
          "base_uri": "https://localhost:8080/"
        },
        "id": "xvTlY_v7MuE6",
        "outputId": "f4a0c755-966a-4802-8de0-6b20b1f0a204"
      },
      "source": [
        "xtrain[0] # Grayscale-> every pixel-> 0 to 255\n"
      ],
      "execution_count": 50,
      "outputs": [
        {
          "output_type": "execute_result",
          "data": {
            "text/plain": [
              "array([[  0,   0,   0,   0,   0,   0,   0,   0,   0,   0,   0,   0,   0,\n",
              "          0,   0,   0,   0,   0,   0,   0,   0,   0,   0,   0,   0,   0,\n",
              "          0,   0],\n",
              "       [  0,   0,   0,   0,   0,   0,   0,   0,   0,   0,   0,   0,   0,\n",
              "          0,   0,   0,   0,   0,   0,   0,   0,   0,   0,   0,   0,   0,\n",
              "          0,   0],\n",
              "       [  0,   0,   0,   0,   0,   0,   0,   0,   0,   0,   0,   0,   0,\n",
              "          0,   0,   0,   0,   0,   0,   0,   0,   0,   0,   0,   0,   0,\n",
              "          0,   0],\n",
              "       [  0,   0,   0,   0,   0,   0,   0,   0,   0,   0,   0,   0,   1,\n",
              "          0,   0,  13,  73,   0,   0,   1,   4,   0,   0,   0,   0,   1,\n",
              "          1,   0],\n",
              "       [  0,   0,   0,   0,   0,   0,   0,   0,   0,   0,   0,   0,   3,\n",
              "          0,  36, 136, 127,  62,  54,   0,   0,   0,   1,   3,   4,   0,\n",
              "          0,   3],\n",
              "       [  0,   0,   0,   0,   0,   0,   0,   0,   0,   0,   0,   0,   6,\n",
              "          0, 102, 204, 176, 134, 144, 123,  23,   0,   0,   0,   0,  12,\n",
              "         10,   0],\n",
              "       [  0,   0,   0,   0,   0,   0,   0,   0,   0,   0,   0,   0,   0,\n",
              "          0, 155, 236, 207, 178, 107, 156, 161, 109,  64,  23,  77, 130,\n",
              "         72,  15],\n",
              "       [  0,   0,   0,   0,   0,   0,   0,   0,   0,   0,   0,   1,   0,\n",
              "         69, 207, 223, 218, 216, 216, 163, 127, 121, 122, 146, 141,  88,\n",
              "        172,  66],\n",
              "       [  0,   0,   0,   0,   0,   0,   0,   0,   0,   1,   1,   1,   0,\n",
              "        200, 232, 232, 233, 229, 223, 223, 215, 213, 164, 127, 123, 196,\n",
              "        229,   0],\n",
              "       [  0,   0,   0,   0,   0,   0,   0,   0,   0,   0,   0,   0,   0,\n",
              "        183, 225, 216, 223, 228, 235, 227, 224, 222, 224, 221, 223, 245,\n",
              "        173,   0],\n",
              "       [  0,   0,   0,   0,   0,   0,   0,   0,   0,   0,   0,   0,   0,\n",
              "        193, 228, 218, 213, 198, 180, 212, 210, 211, 213, 223, 220, 243,\n",
              "        202,   0],\n",
              "       [  0,   0,   0,   0,   0,   0,   0,   0,   0,   1,   3,   0,  12,\n",
              "        219, 220, 212, 218, 192, 169, 227, 208, 218, 224, 212, 226, 197,\n",
              "        209,  52],\n",
              "       [  0,   0,   0,   0,   0,   0,   0,   0,   0,   0,   6,   0,  99,\n",
              "        244, 222, 220, 218, 203, 198, 221, 215, 213, 222, 220, 245, 119,\n",
              "        167,  56],\n",
              "       [  0,   0,   0,   0,   0,   0,   0,   0,   0,   4,   0,   0,  55,\n",
              "        236, 228, 230, 228, 240, 232, 213, 218, 223, 234, 217, 217, 209,\n",
              "         92,   0],\n",
              "       [  0,   0,   1,   4,   6,   7,   2,   0,   0,   0,   0,   0, 237,\n",
              "        226, 217, 223, 222, 219, 222, 221, 216, 223, 229, 215, 218, 255,\n",
              "         77,   0],\n",
              "       [  0,   3,   0,   0,   0,   0,   0,   0,   0,  62, 145, 204, 228,\n",
              "        207, 213, 221, 218, 208, 211, 218, 224, 223, 219, 215, 224, 244,\n",
              "        159,   0],\n",
              "       [  0,   0,   0,   0,  18,  44,  82, 107, 189, 228, 220, 222, 217,\n",
              "        226, 200, 205, 211, 230, 224, 234, 176, 188, 250, 248, 233, 238,\n",
              "        215,   0],\n",
              "       [  0,  57, 187, 208, 224, 221, 224, 208, 204, 214, 208, 209, 200,\n",
              "        159, 245, 193, 206, 223, 255, 255, 221, 234, 221, 211, 220, 232,\n",
              "        246,   0],\n",
              "       [  3, 202, 228, 224, 221, 211, 211, 214, 205, 205, 205, 220, 240,\n",
              "         80, 150, 255, 229, 221, 188, 154, 191, 210, 204, 209, 222, 228,\n",
              "        225,   0],\n",
              "       [ 98, 233, 198, 210, 222, 229, 229, 234, 249, 220, 194, 215, 217,\n",
              "        241,  65,  73, 106, 117, 168, 219, 221, 215, 217, 223, 223, 224,\n",
              "        229,  29],\n",
              "       [ 75, 204, 212, 204, 193, 205, 211, 225, 216, 185, 197, 206, 198,\n",
              "        213, 240, 195, 227, 245, 239, 223, 218, 212, 209, 222, 220, 221,\n",
              "        230,  67],\n",
              "       [ 48, 203, 183, 194, 213, 197, 185, 190, 194, 192, 202, 214, 219,\n",
              "        221, 220, 236, 225, 216, 199, 206, 186, 181, 177, 172, 181, 205,\n",
              "        206, 115],\n",
              "       [  0, 122, 219, 193, 179, 171, 183, 196, 204, 210, 213, 207, 211,\n",
              "        210, 200, 196, 194, 191, 195, 191, 198, 192, 176, 156, 167, 177,\n",
              "        210,  92],\n",
              "       [  0,   0,  74, 189, 212, 191, 175, 172, 175, 181, 185, 188, 189,\n",
              "        188, 193, 198, 204, 209, 210, 210, 211, 188, 188, 194, 192, 216,\n",
              "        170,   0],\n",
              "       [  2,   0,   0,   0,  66, 200, 222, 237, 239, 242, 246, 243, 244,\n",
              "        221, 220, 193, 191, 179, 182, 182, 181, 176, 166, 168,  99,  58,\n",
              "          0,   0],\n",
              "       [  0,   0,   0,   0,   0,   0,   0,  40,  61,  44,  72,  41,  35,\n",
              "          0,   0,   0,   0,   0,   0,   0,   0,   0,   0,   0,   0,   0,\n",
              "          0,   0],\n",
              "       [  0,   0,   0,   0,   0,   0,   0,   0,   0,   0,   0,   0,   0,\n",
              "          0,   0,   0,   0,   0,   0,   0,   0,   0,   0,   0,   0,   0,\n",
              "          0,   0],\n",
              "       [  0,   0,   0,   0,   0,   0,   0,   0,   0,   0,   0,   0,   0,\n",
              "          0,   0,   0,   0,   0,   0,   0,   0,   0,   0,   0,   0,   0,\n",
              "          0,   0]], dtype=uint8)"
            ]
          },
          "metadata": {
            "tags": []
          },
          "execution_count": 50
        }
      ]
    },
    {
      "cell_type": "code",
      "metadata": {
        "colab": {
          "base_uri": "https://localhost:8080/",
          "height": 282
        },
        "id": "nE3Rkx5zMzEc",
        "outputId": "cbdba34b-8f14-4050-99fc-2b3c042f9389"
      },
      "source": [
        "import matplotlib.pyplot as plt\n",
        "plt.figure()\n",
        "plt.imshow(xtrain[0], cmap='gray')\n"
      ],
      "execution_count": 51,
      "outputs": [
        {
          "output_type": "execute_result",
          "data": {
            "text/plain": [
              "<matplotlib.image.AxesImage at 0x7ffa59ce2410>"
            ]
          },
          "metadata": {
            "tags": []
          },
          "execution_count": 51
        },
        {
          "output_type": "display_data",
          "data": {
            "image/png": "[encoded data removed]",
            "text/plain": [
              "<Figure size 432x288 with 1 Axes>"
            ]
          },
          "metadata": {
            "tags": [],
            "needs_background": "light"
          }
        }
      ]
    },
    {
      "cell_type": "code",
      "metadata": {
        "colab": {
          "base_uri": "https://localhost:8080/",
          "height": 35
        },
        "id": "ZHjJuVxhNBfu",
        "outputId": "140dd36d-07f6-4636-f145-b66aba382db1"
      },
      "source": [
        "wordidx = imdb.get_word_index()\n",
        "wordidx = { k:v+3 for k,v in wordidx.items()}\n",
        "wordidx[\"<PAD>\"] = 0\n",
        "wordidx[\"<START>\"] = 1\n",
        "wordidx[\"<UNK>\"] = 2\n",
        "wordidx[\"<UNUSED>\"] = 3\n",
        "numidx = { v:k for k,v in wordidx.items() }\n",
        "numidx[42]"
      ],
      "execution_count": 37,
      "outputs": [
        {
          "output_type": "execute_result",
          "data": {
            "application/vnd.google.colaboratory.intrinsic+json": {
              "type": "string"
            },
            "text/plain": [
              "'or'"
            ]
          },
          "metadata": {
            "tags": []
          },
          "execution_count": 37
        }
      ]
    },
    {
      "cell_type": "code",
      "metadata": {
        "colab": {
          "base_uri": "https://localhost:8080/",
          "height": 35
        },
        "id": "CGUs3OobPKDR",
        "outputId": "197b26de-83c5-4954-e043-12c4326e9806"
      },
      "source": [
        "numidx[1]\n",
        "# KERAS-> built this dataset to teach people fundamentals and SPECIAL SYMBOLS of NLP\n",
        "# left out -> 0,1,2,3\n",
        "# SPECIAL SYMBOLS\n",
        "# 0 <PAD>\n",
        "# 1 <START>\n",
        "# 2 <UNKNOWN>\n",
        "# 3 <UNUSED>"
      ],
      "execution_count": 38,
      "outputs": [
        {
          "output_type": "execute_result",
          "data": {
            "application/vnd.google.colaboratory.intrinsic+json": {
              "type": "string"
            },
            "text/plain": [
              "'<START>'"
            ]
          },
          "metadata": {
            "tags": []
          },
          "execution_count": 38
        }
      ]
    },
    {
      "cell_type": "code",
      "metadata": {
        "id": "2HfTxBhjPMN7"
      },
      "source": [
        "def decode(txt):\n",
        "  return \" \".join([ numidx[word] for word in txt])"
      ],
      "execution_count": 39,
      "outputs": []
    },
    {
      "cell_type": "code",
      "metadata": {
        "colab": {
          "base_uri": "https://localhost:8080/"
        },
        "id": "bU1EIBvJP_oK",
        "outputId": "d83cb695-9cd6-423c-ae20-b90b2955aff3"
      },
      "source": [
        "(xtrain,ytrain), (xtest,ytest) = imdb.load_data(num_words=10000)"
      ],
      "execution_count": 40,
      "outputs": [
        {
          "output_type": "stream",
          "text": [
            "<string>:6: VisibleDeprecationWarning: Creating an ndarray from ragged nested sequences (which is a list-or-tuple of lists-or-tuples-or ndarrays with different lengths or shapes) is deprecated. If you meant to do this, you must specify 'dtype=object' when creating the ndarray\n",
            "/usr/local/lib/python3.7/dist-packages/tensorflow/python/keras/datasets/imdb.py:155: VisibleDeprecationWarning: Creating an ndarray from ragged nested sequences (which is a list-or-tuple of lists-or-tuples-or ndarrays with different lengths or shapes) is deprecated. If you meant to do this, you must specify 'dtype=object' when creating the ndarray\n",
            "  x_train, y_train = np.array(xs[:idx]), np.array(labels[:idx])\n",
            "/usr/local/lib/python3.7/dist-packages/tensorflow/python/keras/datasets/imdb.py:156: VisibleDeprecationWarning: Creating an ndarray from ragged nested sequences (which is a list-or-tuple of lists-or-tuples-or ndarrays with different lengths or shapes) is deprecated. If you meant to do this, you must specify 'dtype=object' when creating the ndarray\n",
            "  x_test, y_test = np.array(xs[idx:]), np.array(labels[idx:])\n"
          ],
          "name": "stderr"
        }
      ]
    },
    {
      "cell_type": "code",
      "metadata": {
        "colab": {
          "base_uri": "https://localhost:8080/"
        },
        "id": "ArNWDqLoQHGw",
        "outputId": "b92ba31b-7c37-4eaa-dc40-512eac7009a7"
      },
      "source": [
        "print(decode(xtrain[1024]))\n",
        "len(decode(xtrain[1024]))"
      ],
      "execution_count": 44,
      "outputs": [
        {
          "output_type": "stream",
          "text": [
            "<START> this is the best movie i have ever seen br br i've seen the movie on dutch television sometime in 1988 br br that month they were showing a <UNK> movie every sunday night br br the next week there was another great movie involving a train rather than a bus the name of which i don't remember if you know it please let me know in any case how can i get to see this movie again a dvd of this movie where please tell me at <UNK> let <UNK> <UNK> br br the next week there was another great movie involving a train rather than a bus the name of which i don't remember if you know it please let me know in any case how can i get to see this movie again a dvd of this movie where please tell me at <UNK> let <UNK> <UNK>\n"
          ],
          "name": "stdout"
        },
        {
          "output_type": "execute_result",
          "data": {
            "text/plain": [
              "720"
            ]
          },
          "metadata": {
            "tags": []
          },
          "execution_count": 44
        }
      ]
    },
    {
      "cell_type": "code",
      "metadata": {
        "colab": {
          "base_uri": "https://localhost:8080/"
        },
        "id": "XZiDO_0FQJWi",
        "outputId": "26026d06-6346-4a09-c54e-3d7ac34c7bdb"
      },
      "source": [
        "print(decode(xtrain[555]))\n",
        "len(decode(xtrain[555]))"
      ],
      "execution_count": 45,
      "outputs": [
        {
          "output_type": "stream",
          "text": [
            "<START> i decided to watch this one because it's been nominated for oscar this year i guess as many folks here i really wanted to like this movie but ended up bored and disappointed first scene was ok but the whole rest of the movie in shaky hands camera mode is really annoying br br i guess the main reason for making such a movie and <UNK> it for oscar is this br br american military machine people who makes money on war <UNK> need an excuse or justification of war in iraq by <UNK> up something sort of patriotic br br why these heroic efforts of director and the main character to inspire the audience with an idea of loving war like a drug oh please come on what a bore br br watch this to get an idea of how low the movie academy can fall\n"
          ],
          "name": "stdout"
        },
        {
          "output_type": "execute_result",
          "data": {
            "text/plain": [
              "747"
            ]
          },
          "metadata": {
            "tags": []
          },
          "execution_count": 45
        }
      ]
    },
    {
      "cell_type": "code",
      "metadata": {
        "id": "qzi4VnZVRqlu"
      },
      "source": [
        "# R,G,B-> SOLID(black), LIGHT (white)\n",
        "# C,M,Y-> Cyan, Mag, Yellow\n",
        "# Grayscale\n",
        "# Hue, Saturation, Brightness\n",
        "# Transparency-> R,G,B,A\n",
        "# Infrared\n",
        "# Ultraviolets\n"
      ],
      "execution_count": 46,
      "outputs": []
    },
    {
      "cell_type": "code",
      "metadata": {
        "colab": {
          "base_uri": "https://localhost:8080/",
          "height": 167
        },
        "id": "uUoPexCbbz4S",
        "outputId": "2256d938-7057-4b1f-bca6-330fe2c614c4"
      },
      "source": [
        "# PROJECT-> DO NOT USE OPEN CV\n",
        "# Expectation-> ()\n",
        "# (B,G,R)-> default in python \n",
        "import cv2\n",
        "from google.colab.patches import cv2_imshow\n",
        "img = cv2.imread('5.jpg')\n",
        "img = cv2.resize(img, (300,150))\n",
        "cv2_imshow(img)"
      ],
      "execution_count": 54,
      "outputs": [
        {
          "output_type": "display_data",
          "data": {
            "image/png": "[encoded data removed]",
            "text/plain": [
              "<PIL.Image.Image image mode=RGB size=300x150 at 0x7FFA44B98F90>"
            ]
          },
          "metadata": {
            "tags": []
          }
        }
      ]
    },
    {
      "cell_type": "code",
      "metadata": {
        "colab": {
          "base_uri": "https://localhost:8080/"
        },
        "id": "eZX8WcwLcfy0",
        "outputId": "b79218f1-5a6a-4452-dea6-1c5cc0574ddc"
      },
      "source": [
        "img.shape"
      ],
      "execution_count": 56,
      "outputs": [
        {
          "output_type": "execute_result",
          "data": {
            "text/plain": [
              "(150, 300, 3)"
            ]
          },
          "metadata": {
            "tags": []
          },
          "execution_count": 56
        }
      ]
    },
    {
      "cell_type": "code",
      "metadata": {
        "colab": {
          "base_uri": "https://localhost:8080/"
        },
        "id": "h2miS0mlcuPm",
        "outputId": "a95ee708-0ef9-43a3-abda-9a9b26fa86ec"
      },
      "source": [
        "img[0][0] # first pixel"
      ],
      "execution_count": 57,
      "outputs": [
        {
          "output_type": "execute_result",
          "data": {
            "text/plain": [
              "array([23, 15, 93], dtype=uint8)"
            ]
          },
          "metadata": {
            "tags": []
          },
          "execution_count": 57
        }
      ]
    },
    {
      "cell_type": "code",
      "metadata": {
        "colab": {
          "base_uri": "https://localhost:8080/"
        },
        "id": "P9c7_xH2c8hM",
        "outputId": "091bfa25-41e9-4cc3-ed45-c22536731858"
      },
      "source": [
        "img[149][0] # first pixel of last row"
      ],
      "execution_count": 58,
      "outputs": [
        {
          "output_type": "execute_result",
          "data": {
            "text/plain": [
              "array([ 85, 161, 224], dtype=uint8)"
            ]
          },
          "metadata": {
            "tags": []
          },
          "execution_count": 58
        }
      ]
    },
    {
      "cell_type": "code",
      "metadata": {
        "colab": {
          "base_uri": "https://localhost:8080/"
        },
        "id": "6PR0j3p5dKBw",
        "outputId": "b2e47cca-ca09-4f27-f880-518a0a0d3c30"
      },
      "source": [
        "img[50]"
      ],
      "execution_count": 59,
      "outputs": [
        {
          "output_type": "execute_result",
          "data": {
            "text/plain": [
              "array([[230, 243, 219],\n",
              "       [234, 240, 221],\n",
              "       [236, 241, 220],\n",
              "       [234, 241, 218],\n",
              "       [234, 241, 222],\n",
              "       [235, 241, 217],\n",
              "       [235, 242, 221],\n",
              "       [234, 241, 220],\n",
              "       [236, 242, 220],\n",
              "       [237, 242, 220],\n",
              "       [238, 238, 223],\n",
              "       [234, 238, 225],\n",
              "       [231, 242, 218],\n",
              "       [230, 242, 217],\n",
              "       [ 65,  67,  62],\n",
              "       [233, 241, 217],\n",
              "       [234, 240, 221],\n",
              "       [234, 241, 219],\n",
              "       [236, 239, 222],\n",
              "       [234, 240, 220],\n",
              "       [109, 113, 100],\n",
              "       [238, 243, 228],\n",
              "       [234, 240, 220],\n",
              "       [234, 241, 220],\n",
              "       [234, 241, 220],\n",
              "       [234, 241, 220],\n",
              "       [233, 240, 220],\n",
              "       [235, 243, 220],\n",
              "       [236, 243, 223],\n",
              "       [ 79,  83,  60],\n",
              "       [206, 211, 151],\n",
              "       [206, 213, 145],\n",
              "       [206, 214, 144],\n",
              "       [208, 210, 150],\n",
              "       [207, 210, 151],\n",
              "       [206, 210, 152],\n",
              "       [205, 211, 149],\n",
              "       [207, 210, 150],\n",
              "       [209, 212, 149],\n",
              "       [172, 182, 114],\n",
              "       [ 57,  59,  43],\n",
              "       [233, 239, 218],\n",
              "       [234, 241, 220],\n",
              "       [234, 241, 220],\n",
              "       [234, 241, 220],\n",
              "       [234, 241, 220],\n",
              "       [234, 241, 220],\n",
              "       [234, 241, 220],\n",
              "       [234, 241, 220],\n",
              "       [234, 241, 220],\n",
              "       [234, 241, 220],\n",
              "       [234, 241, 220],\n",
              "       [234, 241, 220],\n",
              "       [234, 241, 220],\n",
              "       [234, 241, 220],\n",
              "       [234, 241, 220],\n",
              "       [233, 239, 222],\n",
              "       [109, 114, 100],\n",
              "       [238, 244, 227],\n",
              "       [235, 241, 221],\n",
              "       [234, 242, 219],\n",
              "       [234, 241, 220],\n",
              "       [234, 241, 220],\n",
              "       [234, 241, 220],\n",
              "       [234, 241, 220],\n",
              "       [234, 241, 220],\n",
              "       [234, 241, 220],\n",
              "       [234, 241, 220],\n",
              "       [234, 241, 220],\n",
              "       [234, 241, 220],\n",
              "       [234, 241, 220],\n",
              "       [234, 241, 220],\n",
              "       [234, 241, 220],\n",
              "       [236, 240, 220],\n",
              "       [ 45,  53,  50],\n",
              "       [154, 202, 237],\n",
              "       [124, 195, 244],\n",
              "       [130, 195, 239],\n",
              "       [127, 195, 240],\n",
              "       [120, 194, 242],\n",
              "       [125, 193, 238],\n",
              "       [ 46,  92, 132],\n",
              "       [ 30,  40,  77],\n",
              "       [125, 170, 203],\n",
              "       [131, 198, 243],\n",
              "       [131, 192, 243],\n",
              "       [147, 189, 220],\n",
              "       [ 84, 100,  94],\n",
              "       [162, 164, 128],\n",
              "       [174, 183, 147],\n",
              "       [184, 189, 149],\n",
              "       [182, 192, 146],\n",
              "       [182, 191, 145],\n",
              "       [187, 191, 145],\n",
              "       [180, 192, 151],\n",
              "       [ 14,  35,  41],\n",
              "       [128, 192, 238],\n",
              "       [127, 195, 242],\n",
              "       [128, 194, 243],\n",
              "       [130, 193, 243],\n",
              "       [128, 194, 242],\n",
              "       [128, 194, 242],\n",
              "       [128, 194, 242],\n",
              "       [128, 194, 242],\n",
              "       [128, 194, 242],\n",
              "       [130, 194, 242],\n",
              "       [ 98, 148, 187],\n",
              "       [ 68,  89, 162],\n",
              "       [ 64,  92, 189],\n",
              "       [ 60,  94, 187],\n",
              "       [ 68,  92, 187],\n",
              "       [ 65,  93, 188],\n",
              "       [ 63,  92, 190],\n",
              "       [ 68,  95, 189],\n",
              "       [ 71,  96, 182],\n",
              "       [ 73,  97, 163],\n",
              "       [109, 143, 188],\n",
              "       [ 62, 108, 159],\n",
              "       [ 57, 111, 159],\n",
              "       [ 61, 107, 161],\n",
              "       [ 59, 108, 152],\n",
              "       [ 53, 106, 157],\n",
              "       [ 45, 104, 161],\n",
              "       [ 43, 103, 163],\n",
              "       [ 43, 103, 163],\n",
              "       [ 45, 103, 161],\n",
              "       [ 43, 104, 160],\n",
              "       [ 42, 103, 160],\n",
              "       [ 47, 103, 158],\n",
              "       [ 58, 106, 156],\n",
              "       [ 56, 106, 157],\n",
              "       [ 56, 108, 158],\n",
              "       [ 52, 107, 157],\n",
              "       [ 46, 104, 158],\n",
              "       [ 48, 105, 158],\n",
              "       [ 46, 103, 158],\n",
              "       [ 44, 103, 162],\n",
              "       [ 44, 104, 163],\n",
              "       [ 43, 103, 161],\n",
              "       [ 41,  77, 112],\n",
              "       [  1,   7,  21],\n",
              "       [  3,  33,  57],\n",
              "       [ 10,  31,  56],\n",
              "       [  8,  32,  54],\n",
              "       [ 10,  31,  55],\n",
              "       [  0,   7,  24],\n",
              "       [  1,   2,  17],\n",
              "       [ 56,  61,  75],\n",
              "       [ 22,  24,  33],\n",
              "       [  3,   4,  11],\n",
              "       [ 51,  65, 124],\n",
              "       [ 43,  63, 135],\n",
              "       [ 44,  60, 128],\n",
              "       [ 67,  94, 188],\n",
              "       [ 33,  43,  94],\n",
              "       [  9,  68, 137],\n",
              "       [ 34, 119, 223],\n",
              "       [  1,  21,  62],\n",
              "       [118, 156, 212],\n",
              "       [ 19,  33,  66],\n",
              "       [139, 180, 224],\n",
              "       [ 10,  22,  56],\n",
              "       [140, 182, 250],\n",
              "       [  6,  19,  58],\n",
              "       [ 92, 117, 162],\n",
              "       [132, 184, 254],\n",
              "       [131, 183, 253],\n",
              "       [ 87, 116, 155],\n",
              "       [241, 246, 245],\n",
              "       [250, 252, 252],\n",
              "       [253, 255, 255],\n",
              "       [255, 255, 255],\n",
              "       [254, 254, 254],\n",
              "       [250, 252, 253],\n",
              "       [236, 239, 240],\n",
              "       [ 81, 108, 146],\n",
              "       [130, 183, 253],\n",
              "       [135, 184, 252],\n",
              "       [148, 188, 236],\n",
              "       [125, 148, 180],\n",
              "       [ 98, 115, 148],\n",
              "       [ 43,  59,  77],\n",
              "       [ 25,  16,  35],\n",
              "       [ 97,  50,  93],\n",
              "       [106,  44, 103],\n",
              "       [108,  46, 102],\n",
              "       [ 99,  49,  95],\n",
              "       [ 35,  43, 100],\n",
              "       [ 65,  93, 187],\n",
              "       [ 64,  93, 188],\n",
              "       [ 67,  93, 187],\n",
              "       [ 66,  92, 188],\n",
              "       [ 66,  93, 190],\n",
              "       [ 66,  94, 189],\n",
              "       [ 65,  96, 178],\n",
              "       [  7,   1,  45],\n",
              "       [ 88,  49,  86],\n",
              "       [106,  45, 101],\n",
              "       [106,  45, 101],\n",
              "       [106,  45, 101],\n",
              "       [106,  45, 101],\n",
              "       [106,  45, 101],\n",
              "       [107,  46, 100],\n",
              "       [106,  45, 103],\n",
              "       [103,  45, 100],\n",
              "       [100,  49,  98],\n",
              "       [ 61,  83, 127],\n",
              "       [128, 176, 247],\n",
              "       [124, 175, 247],\n",
              "       [ 15,  23,  47],\n",
              "       [252, 252, 246],\n",
              "       [255, 255, 253],\n",
              "       [255, 255, 255],\n",
              "       [253, 252, 254],\n",
              "       [205, 204, 204],\n",
              "       [242, 243, 239],\n",
              "       [252, 252, 252],\n",
              "       [254, 254, 253],\n",
              "       [234, 235, 235],\n",
              "       [ 45,  21,  44],\n",
              "       [101,  47, 100],\n",
              "       [106,  47,  98],\n",
              "       [104,  44, 103],\n",
              "       [108,  44, 101],\n",
              "       [ 15,   6,  22],\n",
              "       [148, 132, 231],\n",
              "       [169, 157, 251],\n",
              "       [171, 159, 253],\n",
              "       [168, 160, 254],\n",
              "       [170, 159, 254],\n",
              "       [172, 158, 255],\n",
              "       [170, 160, 252],\n",
              "       [171, 161, 251],\n",
              "       [171, 155, 255],\n",
              "       [171, 158, 255],\n",
              "       [168, 159, 254],\n",
              "       [169, 161, 254],\n",
              "       [180, 168, 248],\n",
              "       [177, 173, 223],\n",
              "       [ 69,  71, 100],\n",
              "       [ 31,  55,  90],\n",
              "       [128, 177, 218],\n",
              "       [110, 175, 223],\n",
              "       [107, 176, 226],\n",
              "       [114, 175, 224],\n",
              "       [ 20,  27,  57],\n",
              "       [169, 160, 248],\n",
              "       [172, 159, 253],\n",
              "       [173, 159, 254],\n",
              "       [169, 160, 248],\n",
              "       [136, 136, 173],\n",
              "       [ 82,  96, 164],\n",
              "       [ 62,  93, 185],\n",
              "       [ 68,  95, 186],\n",
              "       [ 65,  92, 189],\n",
              "       [ 65,  93, 188],\n",
              "       [ 65,  93, 188],\n",
              "       [ 65,  93, 188],\n",
              "       [ 65,  93, 188],\n",
              "       [ 69,  94, 190],\n",
              "       [ 69,  97, 191],\n",
              "       [ 82, 100, 166],\n",
              "       [ 41,  44,  46],\n",
              "       [196, 184, 154],\n",
              "       [187, 181, 146],\n",
              "       [196, 188, 157],\n",
              "       [123, 115,  95],\n",
              "       [ 36,  30,  17],\n",
              "       [ 81,  74,  58],\n",
              "       [143, 138, 115],\n",
              "       [158, 153, 127],\n",
              "       [160, 154, 126],\n",
              "       [163, 156, 126],\n",
              "       [163, 156, 124],\n",
              "       [162, 158, 122],\n",
              "       [164, 157, 123],\n",
              "       [164, 156, 125],\n",
              "       [166, 155, 127],\n",
              "       [164, 156, 126],\n",
              "       [163, 157, 124],\n",
              "       [163, 157, 124],\n",
              "       [163, 156, 126],\n",
              "       [163, 157, 124],\n",
              "       [164, 156, 126],\n",
              "       [164, 156, 126],\n",
              "       [164, 156, 126],\n",
              "       [164, 156, 126],\n",
              "       [164, 156, 126],\n",
              "       [163, 156, 127],\n",
              "       [164, 156, 127],\n",
              "       [164, 156, 127],\n",
              "       [164, 156, 126],\n",
              "       [166, 155, 127],\n",
              "       [166, 155, 127],\n",
              "       [163, 157, 123],\n",
              "       [163, 159, 124],\n",
              "       [161, 157, 124],\n",
              "       [163, 156, 126],\n",
              "       [184, 178, 159],\n",
              "       [ 17,  23,  21]], dtype=uint8)"
            ]
          },
          "metadata": {
            "tags": []
          },
          "execution_count": 59
        }
      ]
    },
    {
      "cell_type": "code",
      "metadata": {
        "id": "EvPp_UhrdTG2"
      },
      "source": [
        "# NLP\n",
        "# y = weights * words + bias\n",
        "# Computer Vision- B/w\n",
        "# y = weights * graysale_matrix + bias\n",
        "# Computer Vision- Colored\n",
        "# y' = (weights_r,weights_g, weights_b) * (image_r, image_g, image_b) + bias\n",
        "\n"
      ],
      "execution_count": 60,
      "outputs": []
    },
    {
      "cell_type": "code",
      "metadata": {
        "id": "eo1S3N8Gd5Es"
      },
      "source": [
        "# vectors"
      ],
      "execution_count": null,
      "outputs": []
    }
  ]
}